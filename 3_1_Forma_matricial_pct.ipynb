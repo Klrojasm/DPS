{
  "cells": [
    {
      "cell_type": "markdown",
      "id": "b2728abc",
      "metadata": {
        "id": "b2728abc"
      },
      "source": [
        "# Representación Matricial de la Transformada de Fourier\n",
        "\n",
        "En esta sección, exploraremos la representación de la Transformada de Fourier en forma matricial, utilizada frecuentemente en aplicaciones computacionales y en álgebra lineal."
      ]
    },
    {
      "cell_type": "markdown",
      "id": "b1580b0a",
      "metadata": {
        "id": "b1580b0a"
      },
      "source": [
        "## Definición Matemática\n",
        "\n",
        "La Transformada Discreta de Fourier (DFT) puede expresarse en forma matricial como:\n",
        "\n",
        "$$ X = W_N x $$\n",
        "\n",
        "Donde:\n",
        "- $X$ es el vector transformado en el dominio de la frecuencia.\n",
        "- $x$ es el vector de entrada en el dominio del tiempo.\n",
        "- $W_N$ es la matriz de Fourier de tamaño $N \\times N$, cuyos elementos están definidos como:\n",
        "\n",
        "$$ W_N(k, n) = e^{-j 2\\pi kn/N} $$\n",
        "\n",
        "La matriz $W_N$ es una matriz de coeficientes exponenciales complejos que permite calcular la DFT mediante un producto matricial en lugar de una suma directa."
      ]
    },
    {
      "cell_type": "markdown",
      "id": "64d6de66",
      "metadata": {
        "id": "64d6de66"
      },
      "source": [
        "## Construcción de la Matriz de Fourier\n",
        "\n",
        "La matriz $W_N$ tiene una estructura especial donde cada elemento está dado por una raíz de la unidad compleja elevada a una potencia específica.\n",
        "\n",
        "- La primera fila y la primera columna de $W_N$ contienen solo unos.\n",
        "- Cada fila representa una frecuencia armónica creciente.\n",
        "- Los valores son simétricos y periódicos en torno a $N$."
      ]
    },
    {
      "cell_type": "markdown",
      "id": "74d95e6a",
      "metadata": {
        "id": "74d95e6a"
      },
      "source": [
        "## Ejemplo: Matriz de Fourier $4 \\times 4$\n",
        "\n",
        "Para $N = 4$, la matriz de Fourier $W_4$ se construye como:\n",
        "\n",
        "$$\n",
        "W_4 = \\begin{bmatrix}\n",
        "1 & 1 & 1 & 1 \\\\\n",
        "1 & e^{-j\\pi/2} & e^{-j\\pi} & e^{-j3\\pi/2} \\\\\n",
        "1 & e^{-j\\pi} & e^{-j2\\pi} & e^{-j3\\pi} \\\\\n",
        "1 & e^{-j3\\pi/2} & e^{-j3\\pi} & e^{-j9\\pi/2}\n",
        "\\end{bmatrix}\n",
        "$$"
      ]
    },
    {
      "cell_type": "code",
      "execution_count": null,
      "id": "b8083676",
      "metadata": {
        "id": "b8083676"
      },
      "outputs": [],
      "source": [
        "import numpy as np\n",
        "\n",
        "# Definir N\n",
        "N = 4\n",
        "\n",
        "# Construcción de la matriz de Fourier cuadrada\n",
        "k = np.arange(N)\n",
        "n = k.reshape((N, 1))  # Convertir en columna para el producto matricial\n",
        "W_4 = np.exp(-2j * np.pi * k * n / N)\n",
        "\n",
        "# Mostrar la matriz\n",
        "print(\"Matriz de Fourier W_4:\")\n",
        "print(np.round(W_4, 3))  # Redondear para mejor visualización"
      ]
    },
    {
      "cell_type": "markdown",
      "id": "30fee208",
      "metadata": {
        "id": "30fee208"
      },
      "source": [
        "## Matriz de Fourier Rectangular ($6 \\times 4$)\n",
        "\n",
        "En ciertos casos, podemos definir una matriz de Fourier **no cuadrada**, como cuando tenemos más frecuencias en la salida que muestras en la señal original.\n",
        "\n",
        "Para una matriz $W_{6,4}$ de dimensiones $6 \\times 4$:"
      ]
    },
    {
      "cell_type": "code",
      "execution_count": null,
      "id": "e624d003",
      "metadata": {
        "lines_to_next_cell": 1,
        "id": "e624d003"
      },
      "outputs": [],
      "source": [
        "M, N = 6, 4  # Filas y columnas\n",
        "k = np.arange(M).reshape(M, 1)  # Vector de frecuencias\n",
        "n = np.arange(N).reshape(1, N)  # Vector de tiempo\n",
        "W_6_4 = np.exp(-2j * np.pi * k * n / N)  # Matriz rectangular\n",
        "\n",
        "# Mostrar la matriz rectangular\n",
        "print(\"Matriz de Fourier W_6_4:\")\n",
        "print(np.round(W_6_4, 3))  # Redondear para mejor visualización"
      ]
    },
    {
      "cell_type": "markdown",
      "id": "8d432bb0",
      "metadata": {
        "id": "8d432bb0"
      },
      "source": [
        "## Implementación en Python\n",
        "\n",
        "A continuación, implementaremos la DFT en forma matricial utilizando `numpy`."
      ]
    },
    {
      "cell_type": "code",
      "execution_count": null,
      "id": "4735e487",
      "metadata": {
        "id": "4735e487"
      },
      "outputs": [],
      "source": [
        "# Definir la función para calcular la DFT mediante la matriz de Fourier\n",
        "def dft_matrix(N):\n",
        "    k = np.arange(N)\n",
        "    n = k.reshape((N, 1))  # Convertir en columna para el producto matricial\n",
        "    W = np.exp(-2j * np.pi * k * n / N)\n",
        "    return W\n",
        "\n",
        "# Señal de ejemplo\n",
        "N = 8  # Tamaño de la señal\n",
        "t = np.arange(N)\n",
        "x = np.sin(2 * np.pi * t / N)  # Señal senoidal de ejemplo\n",
        "\n",
        "# Calcular la DFT usando la matriz de Fourier\n",
        "W = dft_matrix(N)\n",
        "X = W @ x  # Multiplicación matricial\n",
        "\n",
        "# Mostrar la matriz de Fourier\n",
        "print(\"Matriz de Fourier W_N:\")\n",
        "print(np.round(W, 3))  # Redondear para mejor visualización"
      ]
    },
    {
      "cell_type": "markdown",
      "id": "16a69248",
      "metadata": {
        "id": "16a69248"
      },
      "source": [
        "## Visualización de la Transformada\n",
        "\n",
        "Se graficarán la señal original y su espectro de Fourier."
      ]
    },
    {
      "cell_type": "markdown",
      "source": [
        "### CONSULTA"
      ],
      "metadata": {
        "id": "vrM0gUNTfwZI"
      },
      "id": "vrM0gUNTfwZI"
    },
    {
      "cell_type": "code",
      "execution_count": null,
      "id": "31eae67f",
      "metadata": {
        "id": "31eae67f"
      },
      "outputs": [],
      "source": [
        "import matplotlib.pyplot as plt\n",
        "\n",
        "plt.figure(figsize=(12, 5))\n",
        "\n",
        "# Señal original\n",
        "t = np.linspace(0, N-1, N)\n",
        "plt.subplot(1, 2, 1)\n",
        "plt.stem(t, x, use_line_collection=True)\n",
        "plt.title(\"Señal original\")\n",
        "plt.xlabel(\"Tiempo\")\n",
        "plt.ylabel(\"Amplitud\")\n",
        "plt.grid()\n",
        "\n",
        "# Magnitud del espectro de Fourier\n",
        "plt.subplot(1, 2, 2)\n",
        "plt.stem(np.abs(X), use_line_collection=True)\n",
        "plt.title(\"Espectro de Fourier (Magnitud)\")\n",
        "plt.xlabel(\"Frecuencia\")\n",
        "plt.ylabel(\"Amplitud\")\n",
        "plt.grid()\n",
        "\n",
        "plt.tight_layout()\n",
        "plt.show()"
      ]
    },
    {
      "cell_type": "markdown",
      "id": "850202c6",
      "metadata": {
        "id": "850202c6"
      },
      "source": [
        "Esta implementación muestra cómo la Transformada de Fourier puede calcularse eficientemente usando su representación matricial, tanto en forma cuadrada como rectangular."
      ]
    },
    {
      "cell_type": "markdown",
      "source": [
        "La representación matricial de Fourier es una generalización que permite flexibilidad en el tamaño de entrada y salida, lo que no necesariamente ocurre en las formas tradicionales como la Transformada de Fourier Discreta (DFT). Esta \"ruptura\" de la regla de conservación del tamaño se debe a varias razones prácticas y teóricas que dependen del propósito y contexto de la transformación. Vamos a analizarlo:\n",
        "________________________________________\n",
        "1. La Transformada de Fourier como una transformación lineal\n",
        "La Transformada de Fourier (en su forma discreta) puede representarse como una multiplicación matricial:\n",
        "X=F⋅xX = F \\cdot xX=F⋅x\n",
        "Donde:\n",
        "•\txxx es el vector de entrada con NNN muestras.\n",
        "•\tFFF es la matriz de Fourier de tamaño M×NM \\times NM×N, cuyas entradas son exponenciales complejas.\n",
        "•\tXXX es el vector de salida con MMM puntos transformados.\n",
        "En este caso, el tamaño de la matriz FFF puede variar:\n",
        "•\tSi M=NM = NM=N, se conserva la cantidad de datos, cumpliendo la regla tradicional de la DFT.\n",
        "•\tSi M≠NM \\neq NM=N, tienes una representación \"sobremuestreada\" (M>NM > NM>N) o \"submuestreada\" (M<NM < NM<N) en el dominio transformado.\n",
        "Esto se hace deliberadamente en ciertos casos, como veremos a continuación.\n",
        "________________________________________\n",
        "2. Razones prácticas para tamaños diferentes\n",
        "a) Reducción de dimensionalidad\n",
        "Cuando solo te interesan ciertas componentes de frecuencia (como las bajas frecuencias en señales reales), puedes diseñar una matriz FFF que compute únicamente esas frecuencias. Esto es útil para aplicaciones prácticas como:\n",
        "•\tFiltrado de señales.\n",
        "•\tReducción de ruido.\n",
        "•\tCompresión de datos.\n",
        "Por ejemplo, podrías tomar solo las primeras MMM filas de la matriz FFF, donde M<NM < NM<N, para enfocarte en las frecuencias más importantes.\n",
        "b) Aumento de resolución (Interpolación espectral)\n",
        "En algunos casos, como el análisis espectral más detallado, puedes aumentar el número de puntos en la salida (es decir, M>NM > NM>N) al interpolar el espectro. Esto se logra aumentando la densidad de muestras en el dominio de la frecuencia, como con zero-padding en el dominio temporal.\n",
        "c) Propósito específico de la aplicación\n",
        "Si estás utilizando Fourier en un contexto específico, como el método de Welch, donde se calcula un promedio de espectros a partir de segmentos de datos, el tamaño de entrada y salida puede depender de cómo segmentes y promedies la señal. Esto rompe la simetría clásica entre entrada y salida.\n",
        "________________________________________\n",
        "3. Flexibilidad de la representación matricial\n",
        "A diferencia de las implementaciones estándar de la DFT (que asumen tamaños iguales para garantizar una transformación reversible), la forma matricial de Fourier te da libertad para personalizar el tamaño de entrada y salida porque:\n",
        "•\tLa matriz de Fourier no está restringida a ser cuadrada.\n",
        "•\tPuedes diseñar la matriz FFF de acuerdo a tus necesidades (por ejemplo, incluir solo ciertas frecuencias o aumentar la densidad de puntos).\n",
        "Esto es posible porque la DFT en esencia es una proyección de los datos en un conjunto de bases (las exponenciales complejas). Al cambiar el número de puntos en la salida, simplemente estás proyectando sobre un conjunto más grande o más pequeño de estas bases.\n",
        "________________________________________\n",
        "4. Rompiendo la regla clásica sin perder sentido\n",
        "Aunque parece que se rompe la regla clásica de conservación de tamaño, la operación sigue teniendo sentido porque:\n",
        "•\tLa transformación sigue siendo lineal. Simplemente estás cambiando el espacio donde representas tus datos.\n",
        "•\tNo siempre necesitas invertir la transformación. En muchas aplicaciones (como el análisis espectral), no necesitas reconstruir la señal original, por lo que la conservación de tamaño no es un requisito.\n",
        "\n",
        "\n",
        "Cuando la salida es mayor que la entrada (M>NM > NM>N) en la representación matricial de Fourier, se está generando una \"sobremuestreo\" en el dominio transformado, lo cual puede ser útil en ciertas aplicaciones. Esto tiene implicaciones importantes tanto en la interpretación de los datos como en los cálculos. Vamos a desglosarlo:\n",
        "________________________________________\n",
        "1. Sobremuestreo en el dominio de la frecuencia\n",
        "Cuando aumentas el tamaño de la salida (M>NM > NM>N), estás generando una mayor cantidad de puntos en el espectro frecuencial, incluso más de lo que sería estrictamente necesario según la Transformada de Fourier estándar. Esto se logra aumentando la resolución frecuencial al introducir interpolación. Esto se puede hacer, por ejemplo, a través de:\n",
        "•\tZero-padding: Agregar ceros al final del vector de entrada para extender su longitud.\n",
        "•\tUsar una matriz FFF diseñada para calcular más frecuencias que muestras originales.\n",
        "En el dominio de la frecuencia, esto no genera nueva información, pero permite:\n",
        "•\tMayor resolución en frecuencias: Los puntos adicionales en la salida corresponden a frecuencias más densamente espaciadas.\n",
        "•\tEspectros más suaves: Al rellenar los vacíos entre frecuencias originales, el espectro se ve más detallado.\n",
        "Esto es especialmente útil en aplicaciones como:\n",
        "•\tAnálisis espectral detallado: Para observar picos de frecuencia más finos.\n",
        "•\tInterpolación: Cuando necesitas \"estimar\" valores entre las frecuencias originales.\n",
        "________________________________________\n",
        "2. No se crea información adicional\n",
        "Aunque obtienes más puntos en la salida, no se está creando nueva información. Esto ocurre porque:\n",
        "•\tEl aumento de resolución en el espectro se basa en los datos originales.\n",
        "•\tLa energía total (potencia) de la señal se distribuye entre los puntos adicionales, pero no hay nuevos componentes de frecuencia.\n",
        "De hecho, si realizas la transformación inversa con los puntos adicionales, podrías recuperar un resultado más suave, pero equivalente al original.\n",
        "________________________________________\n",
        "3. Implicaciones matemáticas\n",
        "Desde un punto de vista matemático:\n",
        "•\tLa matriz FFF en este caso tiene dimensiones M×NM \\times NM×N, con M>NM > NM>N. Esto significa que FFF no es cuadrada.\n",
        "•\tEl sistema que representa F⋅xF \\cdot xF⋅x es sobredeterminado: estás proyectando un vector de entrada xxx de tamaño NNN sobre un espacio de salida de dimensión MMM, agregando redundancia.\n",
        "La redundancia en la salida (más puntos de los estrictamente necesarios) es intencional para las aplicaciones descritas.\n",
        "________________________________________\n",
        "4. Ejemplo práctico: Zero-padding\n",
        "Imagina que tienes una señal xxx de longitud N=8N = 8N=8. Si aplicas una DFT clásica, obtendrás N=8N = 8N=8 puntos en el espectro. Pero si haces un zero-padding para extender la señal a M=16M = 16M=16 puntos, el espectro resultante será más detallado porque tendrá M=16M = 16M=16 frecuencias muestreadas más densamente.\n",
        "Original:\n",
        "x=[1,2,3,4,5,6,7,8]x = [1, 2, 3, 4, 5, 6, 7, 8]x=[1,2,3,4,5,6,7,8]\n",
        "Zero-padding (a longitud M=16M = 16M=16):\n",
        "xpadded=[1,2,3,4,5,6,7,8,0,0,0,0,0,0,0,0]x_{\\text{padded}} = [1, 2, 3, 4, 5, 6, 7, 8, 0, 0, 0, 0, 0, 0, 0, 0]xpadded=[1,2,3,4,5,6,7,8,0,0,0,0,0,0,0,0]\n",
        "El resultado del espectro tendrá una resolución más alta, pero la energía de la señal sigue siendo la misma.\n",
        "________________________________________\n",
        "5. Aplicaciones principales\n",
        "•\tAnálisis espectral fino: Detectar componentes de frecuencia cercanas (por ejemplo, en señales de radar o audio).\n",
        "•\tInterpolación de señales: Para suavizar espectros o calcular valores intermedios.\n",
        "•\tVisualización más detallada: En aplicaciones como análisis de vibraciones, EEG o espectros de audio, un espectro más denso es visualmente más informativo.\n",
        "________________________________________\n",
        "A LA SALIDA SER MENOR\n",
        "Cuando la salida es menor que la entrada (M<NM < NM<N) en la representación matricial de Fourier, lo que ocurre es una reducción de la dimensionalidad en el dominio de la frecuencia. Esto tiene implicaciones importantes en cómo se representan los datos y para qué se pueden usar. Aquí hay un análisis de lo que pasa en estos casos:\n",
        "________________________________________\n",
        "1. Reducción de la dimensionalidad\n",
        "Al tener menos puntos en la salida (M<NM < NM<N), estás descartando información del espectro. Esto implica que:\n",
        "•\tNo todas las frecuencias originales están siendo representadas.\n",
        "•\tSe produce una pérdida de detalle en el dominio de la frecuencia.\n",
        "•\tEsencialmente, estás proyectando la señal original en un subconjunto de las bases de Fourier, seleccionando solo MMM componentes frecuenciales en lugar de NNN.\n",
        "Esto es útil en aplicaciones donde no necesitas representar la señal completa, sino solo las frecuencias más importantes o aquellas dentro de un rango específico.\n",
        "________________________________________\n",
        "2. Compresión de información\n",
        "Cuando M<NM < NM<N, puedes interpretar esta operación como una forma de compresión. Por ejemplo:\n",
        "•\tSi solo estás interesado en las frecuencias bajas (que suelen contener la mayor parte de la energía de señales reales), puedes descartar las frecuencias altas.\n",
        "•\tEsto es útil en aplicaciones como:\n",
        "o\tFiltrado de señales: Para eliminar ruido (normalmente en frecuencias altas).\n",
        "o\tCompresión de datos: Reteniendo únicamente la información esencial.\n",
        "En este caso, la transformación no es completamente reversible porque se ha perdido información de las frecuencias descartadas.\n",
        "________________________________________\n",
        "3. Interpretación matemática\n",
        "La matriz de Fourier en este caso tiene dimensiones M×NM \\times NM×N, con M<NM < NM<N. Esto significa que estás realizando una transformación subdeterminada:\n",
        "•\tEstás proyectando un vector de entrada xxx de tamaño NNN sobre un espacio de salida de menor dimensión MMM.\n",
        "•\tEsto corresponde a una reducción en la cantidad de puntos frecuenciales que calculas.\n",
        "Matemáticamente:\n",
        "X=F⋅xX = F \\cdot xX=F⋅x\n",
        "Donde FFF es una matriz rectangular que selecciona solo MMM frecuencias. Esto puede interpretarse como un submuestreo del espectro en el dominio de la frecuencia.\n",
        "________________________________________\n",
        "4. Pérdida de información\n",
        "La reducción de la salida no solo reduce el tamaño del espectro, sino que también introduce pérdida de información:\n",
        "•\tAliasing: Si no tienes cuidado al seleccionar las MMM frecuencias (por ejemplo, si no estás limitado a las más bajas), pueden mezclarse componentes de frecuencia, lo que genera aliasing.\n",
        "•\tNo-reversibilidad: Como no estás trabajando con todas las componentes de frecuencia, no puedes recuperar completamente la señal original. Esto es lo opuesto a una Transformada de Fourier completa, que sí es reversible.\n",
        "________________________________________\n",
        "5. Ejemplo práctico: Selección de frecuencias bajas\n",
        "Supongamos que tienes una señal xxx con N=8N = 8N=8 puntos, pero solo necesitas las 4 frecuencias más bajas (M=4M = 4M=4) para tu análisis:\n",
        "Vector de entrada:\n",
        "x=[1,2,3,4,5,6,7,8]x = [1, 2, 3, 4, 5, 6, 7, 8]x=[1,2,3,4,5,6,7,8]\n",
        "Transformada reducida:\n",
        "Si solo computas las primeras M=4M = 4M=4 frecuencias, el resultado sería un espectro más compacto que captura las características principales de la señal. Esto puede representarse seleccionando las primeras 4 filas de la matriz FFF.\n",
        "________________________________________\n",
        "6. Aplicaciones principales\n",
        "Cuando la salida es menor que la entrada, esta técnica se usa en casos como:\n",
        "•\tAnálisis de componentes principales (PCA): Retener solo las frecuencias principales o más relevantes para reducir ruido o simplificar el modelo.\n",
        "•\tFiltrado: Eliminar componentes no deseadas de alta frecuencia o aquellas fuera de un rango específico.\n",
        "•\tCompresión de señales: Para representar señales con menos datos mientras se mantiene su información esencial.\n",
        "•\tReducción de carga computacional: En problemas donde calcular todas las frecuencias no es necesario.\n",
        "________________________________________\n",
        "7. Ventajas y desventajas\n",
        "Ventajas:\n",
        "•\tMenor carga computacional: Menos puntos en la salida significa menos cálculos.\n",
        "•\tSimplicidad: Te enfocas en las características principales de la señal.\n",
        "•\tEliminación de ruido: Puedes ignorar frecuencias irrelevantes o ruidosas.\n",
        "Desventajas:\n",
        "•\tPérdida de información: No puedes recuperar la señal original.\n",
        "•\tRiesgo de aliasing: Si no seleccionas correctamente las frecuencias, puedes distorsionar la señal.\n"
      ],
      "metadata": {
        "id": "deVPHBZ2fqgE"
      },
      "id": "deVPHBZ2fqgE"
    }
  ],
  "metadata": {
    "jupytext": {
      "cell_metadata_filter": "-all",
      "main_language": "python",
      "notebook_metadata_filter": "-all"
    },
    "kernelspec": {
      "display_name": "Python 3 (ipykernel)",
      "language": "python",
      "name": "python3"
    },
    "language_info": {
      "codemirror_mode": {
        "name": "ipython",
        "version": 3
      },
      "file_extension": ".py",
      "mimetype": "text/x-python",
      "name": "python",
      "nbconvert_exporter": "python",
      "pygments_lexer": "ipython3",
      "version": "3.12.7"
    },
    "colab": {
      "provenance": []
    }
  },
  "nbformat": 4,
  "nbformat_minor": 5
}